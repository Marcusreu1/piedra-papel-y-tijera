{
  "nbformat": 4,
  "nbformat_minor": 0,
  "metadata": {
    "colab": {
      "provenance": [],
      "authorship_tag": "ABX9TyOcallX6aPTQL4+sjFrFnbK",
      "include_colab_link": true
    },
    "kernelspec": {
      "name": "python3",
      "display_name": "Python 3"
    },
    "language_info": {
      "name": "python"
    }
  },
  "cells": [
    {
      "cell_type": "markdown",
      "metadata": {
        "id": "view-in-github",
        "colab_type": "text"
      },
      "source": [
        "<a href=\"https://colab.research.google.com/github/Marcusreu1/piedra-papel-y-tijera/blob/main/piedra_papel_y_tijera.ipynb\" target=\"_parent\"><img src=\"https://colab.research.google.com/assets/colab-badge.svg\" alt=\"Open In Colab\"/></a>"
      ]
    },
    {
      "cell_type": "code",
      "execution_count": 1,
      "metadata": {
        "id": "IKd4XiODNeo9",
        "colab": {
          "base_uri": "https://localhost:8080/",
          "height": 87
        },
        "outputId": "0b84098c-47fc-4923-b00e-9732c1e695f4"
      },
      "outputs": [
        {
          "name": "stdout",
          "output_type": "stream",
          "text": [
            "Bienvenido al juego piedra papel y tijera\n",
            "escoge una opcion: pi:piedra, ti:tijera, pa:papel. \n",
            "pi\n"
          ]
        },
        {
          "output_type": "execute_result",
          "data": {
            "text/plain": [
              "'empate'"
            ],
            "application/vnd.google.colaboratory.intrinsic+json": {
              "type": "string"
            }
          },
          "metadata": {},
          "execution_count": 1
        }
      ],
      "source": [
        "import random\n",
        "\n",
        "\n",
        "def jugar():\n",
        "  print(\"Bienvenido al juego piedra papel y tijera\")\n",
        "  usuario= input (\"escoge una opcion: pi:piedra, ti:tijera, pa:papel. \\n\").lower()\n",
        "  computadora= random.choice([\"ti\", \"pi\", \"pa\"])\n",
        "\n",
        "  if usuario == computadora:\n",
        "    return \"empate\"\n",
        "  if ganaste(usuario, computadora):\n",
        "    return \"ganaste\"\n",
        "  return \"perdiste\"\n",
        "\n",
        "\n",
        "def ganaste(p1,p2):\n",
        "  if ((p1==\"ti\" and p2== \"pa\")\n",
        "  or (p1==\"ti\" and p2 == \"pa\")\n",
        "  or (p1==\"pa\" and p2 == \"pi\")):\n",
        "    return True\n",
        "  else:\n",
        "    return False\n",
        "\n",
        "\n",
        "jugar()"
      ]
    }
  ]
}